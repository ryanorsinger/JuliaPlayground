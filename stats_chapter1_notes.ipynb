{
 "cells": [
  {
   "cell_type": "markdown",
   "metadata": {},
   "source": [
    "## Scope\n",
    "- See https://docs.julialang.org/en/v1/manual/variables-and-scoping/\n",
    "- structrures with the `struct` keyword\n",
    "- modules with the `module` keyword"
   ]
  },
  {
   "cell_type": "code",
   "execution_count": 1,
   "metadata": {},
   "outputs": [
    {
     "name": "stdout",
     "output_type": "stream",
     "text": [
      "1 2 3 \n",
      "Sum of data in external scope is 12\n"
     ]
    }
   ],
   "source": [
    "data = [1, 2, 3]\n",
    "s = 0\n",
    "beta, gamma = 2, 1\n",
    "\n",
    "for i in 1:length(data)\n",
    "    print(i, \" \")\n",
    "    global s\n",
    "    s += beta * data[i]\n",
    "end\n",
    "\n",
    "println(\"\\nSum of data in external scope is $s\")"
   ]
  },
  {
   "cell_type": "code",
   "execution_count": 2,
   "metadata": {},
   "outputs": [
    {
     "data": {
      "text/plain": [
       "bubbleSort! (generic function with 1 method)"
      ]
     },
     "execution_count": 2,
     "metadata": {},
     "output_type": "execute_result"
    }
   ],
   "source": [
    "# bubble sort\n",
    "function bubbleSort!(a)\n",
    "    n = length(a)\n",
    "    for i in 1:n-1\n",
    "        for j in 1:n-i\n",
    "            if a[j] > a[j+1]\n",
    "                a[j], a[j+1] = a[j+1], a[j]\n",
    "            end\n",
    "        end\n",
    "    end\n",
    "    return a\n",
    "end"
   ]
  },
  {
   "cell_type": "code",
   "execution_count": 5,
   "metadata": {},
   "outputs": [
    {
     "data": {
      "text/plain": [
       "3-element Vector{Int64}:\n",
       " 1\n",
       " 2\n",
       " 3"
      ]
     },
     "execution_count": 5,
     "metadata": {},
     "output_type": "execute_result"
    }
   ],
   "source": [
    "a = [3, 2, 1]\n",
    "bubbleSort!(a)"
   ]
  },
  {
   "cell_type": "markdown",
   "metadata": {},
   "source": [
    "### Roots of a polynomial\n",
    "\n",
    "Consider the polynomial $f(x) = a_nx^n + a_n-1x^n-1 + ... + a_1x + a_0$"
   ]
  },
  {
   "cell_type": "code",
   "execution_count": 8,
   "metadata": {},
   "outputs": [],
   "source": [
    "using Roots"
   ]
  },
  {
   "cell_type": "code",
   "execution_count": 31,
   "metadata": {},
   "outputs": [
    {
     "data": {
      "text/plain": [
       "polynomialGenerator (generic function with 1 method)"
      ]
     },
     "execution_count": 31,
     "metadata": {},
     "output_type": "execute_result"
    }
   ],
   "source": [
    "# The .. is a splat operator\n",
    "# This means that the function arguments are variadic\n",
    "# Simplest example of a variadic function is print, since it takes arbitrary number arguments separated by a comma\n",
    "function polynomialGenerator(a...)\n",
    "    n = length(a) - 1\n",
    "    poly = function(x) \n",
    "        return sum(a[i+1] * x^i for i in 0:n)\n",
    "    end\n",
    "    return poly\n",
    "end\n",
    "    "
   ]
  },
  {
   "cell_type": "code",
   "execution_count": 32,
   "metadata": {},
   "outputs": [
    {
     "name": "stdout",
     "output_type": "stream",
     "text": [
      "Zeros are [-0.19999999999999998, 0.5]\n"
     ]
    }
   ],
   "source": [
    "polynomial = polynomialGenerator(1, 3, -10)\n",
    "zeroVals = find_zeros(polynomial, -10, 10)\n",
    "println(\"Zeros are $zeroVals\")"
   ]
  },
  {
   "cell_type": "code",
   "execution_count": null,
   "metadata": {},
   "outputs": [],
   "source": []
  }
 ],
 "metadata": {
  "kernelspec": {
   "display_name": "Julia 1.6.2",
   "language": "julia",
   "name": "julia-1.6"
  },
  "language_info": {
   "file_extension": ".jl",
   "mimetype": "application/julia",
   "name": "julia",
   "version": "1.6.2"
  }
 },
 "nbformat": 4,
 "nbformat_minor": 4
}
