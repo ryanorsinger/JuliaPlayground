{
 "cells": [
  {
   "cell_type": "markdown",
   "metadata": {},
   "source": [
    "## Scope\n",
    "- See https://docs.julialang.org/en/v1/manual/variables-and-scoping/\n",
    "- structrures with the `struct` keyword\n",
    "- modules with the `module` keyword"
   ]
  },
  {
   "cell_type": "code",
   "execution_count": 1,
   "metadata": {},
   "outputs": [
    {
     "name": "stdout",
     "output_type": "stream",
     "text": [
      "1 2 3 \n",
      "Sum of data in external scope is 12\n"
     ]
    }
   ],
   "source": [
    "data = [1, 2, 3]\n",
    "s = 0\n",
    "beta, gamma = 2, 1\n",
    "\n",
    "for i in 1:length(data)\n",
    "    print(i, \" \")\n",
    "    global s\n",
    "    s += beta * data[i]\n",
    "end\n",
    "\n",
    "println(\"\\nSum of data in external scope is $s\")"
   ]
  },
  {
   "cell_type": "code",
   "execution_count": 2,
   "metadata": {},
   "outputs": [
    {
     "data": {
      "text/plain": [
       "bubbleSort! (generic function with 1 method)"
      ]
     },
     "execution_count": 2,
     "metadata": {},
     "output_type": "execute_result"
    }
   ],
   "source": [
    "# bubble sort\n",
    "function bubbleSort!(a)\n",
    "    n = length(a)\n",
    "    for i in 1:n-1\n",
    "        for j in 1:n-i\n",
    "            if a[j] > a[j+1]\n",
    "                a[j], a[j+1] = a[j+1], a[j]\n",
    "            end\n",
    "        end\n",
    "    end\n",
    "    return a\n",
    "end"
   ]
  },
  {
   "cell_type": "code",
   "execution_count": 3,
   "metadata": {},
   "outputs": [
    {
     "data": {
      "text/plain": [
       "3-element Vector{Int64}:\n",
       " 1\n",
       " 2\n",
       " 3"
      ]
     },
     "execution_count": 3,
     "metadata": {},
     "output_type": "execute_result"
    }
   ],
   "source": [
    "a = [3, 2, 1]\n",
    "bubbleSort!(a)"
   ]
  },
  {
   "cell_type": "markdown",
   "metadata": {},
   "source": [
    "### Roots of a polynomial\n",
    "\n",
    "Consider the polynomial $f(x) = a_nx^n + a_n-1x^n-1 + ... + a_1x + a_0$"
   ]
  },
  {
   "cell_type": "code",
   "execution_count": 4,
   "metadata": {},
   "outputs": [],
   "source": [
    "using Roots"
   ]
  },
  {
   "cell_type": "code",
   "execution_count": 5,
   "metadata": {},
   "outputs": [
    {
     "data": {
      "text/plain": [
       "polynomialGenerator (generic function with 1 method)"
      ]
     },
     "execution_count": 5,
     "metadata": {},
     "output_type": "execute_result"
    }
   ],
   "source": [
    "# The .. is a splat operator\n",
    "# This means that the function arguments are variadic\n",
    "# Simplest example of a variadic function is print, since it takes arbitrary number arguments separated by a comma\n",
    "function polynomialGenerator(a...)\n",
    "    n = length(a) - 1\n",
    "    poly = function(x) \n",
    "        return sum(a[i+1] * x^i for i in 0:n)\n",
    "    end\n",
    "    return poly\n",
    "end\n",
    "    "
   ]
  },
  {
   "cell_type": "code",
   "execution_count": 6,
   "metadata": {},
   "outputs": [
    {
     "name": "stdout",
     "output_type": "stream",
     "text": [
      "Zeros are [-0.19999999999999998, 0.5]\n"
     ]
    }
   ],
   "source": [
    "polynomial = polynomialGenerator(1, 3, -10)\n",
    "zeroVals = find_zeros(polynomial, -10, 10)\n",
    "println(\"Zeros are $zeroVals\")"
   ]
  },
  {
   "cell_type": "markdown",
   "metadata": {},
   "source": [
    "## Steady State of a Markov Chain\n",
    "- Consider a theoretical city with 3 states: 1) file, 2) cloudy, and 3) rainy.\n",
    "- On each day, given a certain state, there is a probability distribution of the weather state for the next day\n",
    "- This simple model makes a discrete-time (jhomogeneous) markov chain.\n",
    "- Described by the 3x3 transtion probability matrix $P$ where $P_{ij}$ indicates the probability of transitioning to state $j$ given the current state $i$.\n",
    "- Stationary distribution is $\\pi = [\\pi_1, \\pi_2, \\pi_3]$\n",
    "- 4 differet approaches we can use to find the stationary distribution:\n",
    "    1. By raising $P$ to a higher power, the limiting distribution is obtained in any row.\n",
    "    \n",
    "    $\\pi_i = \\lim_{x\\to\\infty} [P^n]_{j,i}$ for any index $j$\n",
    "    \n",
    "    2. Wwe solve the overdetermined linear system of equations:\n",
    "    \n",
    "    $\\pi P = \\pi$ and $\\sum_{i=1}^{3} \\pi_i = 1$\n",
    "    \n",
    "    3. Use the Perron Frobenius theorum, we find an eigenvector (of maximal magnitude 1 proportional to $\\pi$ and normalize it by the sum of probabilities (L1 Norm)\n",
    "    \n",
    "    4. We run a Monte Carlo siumulation generating random values of weather according to $P$, then take the long term proportions of each state."
   ]
  },
  {
   "cell_type": "code",
   "execution_count": 7,
   "metadata": {},
   "outputs": [],
   "source": [
    "using LinearAlgebra, StatsBase"
   ]
  },
  {
   "cell_type": "code",
   "execution_count": 8,
   "metadata": {},
   "outputs": [
    {
     "data": {
      "text/plain": [
       "3×3 Matrix{Float64}:\n",
       " 0.5  0.4  0.1\n",
       " 0.3  0.2  0.5\n",
       " 0.5  0.3  0.2"
      ]
     },
     "execution_count": 8,
     "metadata": {},
     "output_type": "execute_result"
    }
   ],
   "source": [
    "# Setup the transition probability matrix\n",
    "P = [.5 .4 .1;\n",
    "    .3 .2 .5;\n",
    "    .5 .3 .2]"
   ]
  },
  {
   "cell_type": "code",
   "execution_count": 9,
   "metadata": {},
   "outputs": [
    {
     "data": {
      "text/plain": [
       "3-element Vector{Float64}:\n",
       " 0.43750000000000056\n",
       " 0.31250000000000044\n",
       " 0.25000000000000033"
      ]
     },
     "execution_count": 9,
     "metadata": {},
     "output_type": "execute_result"
    }
   ],
   "source": [
    "# first way to compute the steady state\n",
    "piProb1 = (P^100)[1,:]"
   ]
  },
  {
   "cell_type": "code",
   "execution_count": 10,
   "metadata": {},
   "outputs": [
    {
     "data": {
      "text/plain": [
       "3×1 Matrix{Float64}:\n",
       " 0.43750000000000006\n",
       " 0.31249999999999994\n",
       " 0.25"
      ]
     },
     "execution_count": 10,
     "metadata": {},
     "output_type": "execute_result"
    }
   ],
   "source": [
    "# Second way\n",
    "A = vcat((P' - I)[1:2,:],ones(3)')\n",
    "b = [0 0 1]'\n",
    "piProb2 = A \\ b"
   ]
  },
  {
   "cell_type": "code",
   "execution_count": 11,
   "metadata": {},
   "outputs": [
    {
     "data": {
      "text/plain": [
       "3-element Vector{Float64}:\n",
       " 0.43749999999999994\n",
       " 0.31250000000000006\n",
       " 0.25"
      ]
     },
     "execution_count": 11,
     "metadata": {},
     "output_type": "execute_result"
    }
   ],
   "source": [
    "# Third way\n",
    "eigVecs = eigvecs(copy(P'))\n",
    "highestVec = eigVecs[:,findmax(abs.(eigvals(P)))[2]]\n",
    "piProb3 = Array{Float64}(highestVec) / norm(highestVec, 1)\n"
   ]
  },
  {
   "cell_type": "code",
   "execution_count": 12,
   "metadata": {},
   "outputs": [
    {
     "data": {
      "text/plain": [
       "3-element Vector{Float64}:\n",
       " 0.437707\n",
       " 0.311835\n",
       " 0.250458"
      ]
     },
     "execution_count": 12,
     "metadata": {},
     "output_type": "execute_result"
    }
   ],
   "source": [
    "# Fourth way (no linear algebra, only simulations)\n",
    "numInState = zeros(Int, 3)\n",
    "state = 1\n",
    "N = 10^6\n",
    "for t in 1:N\n",
    "    numInState[state] += 1\n",
    "    global state = sample(1:3, weights(P[state,:]))\n",
    "end\n",
    "piProb4 = numInState/N"
   ]
  },
  {
   "cell_type": "markdown",
   "metadata": {},
   "source": [
    "## Web Inbterfacing, JSON, and String Processing"
   ]
  },
  {
   "cell_type": "code",
   "execution_count": 14,
   "metadata": {},
   "outputs": [],
   "source": [
    "using HTTP, JSON"
   ]
  },
  {
   "cell_type": "code",
   "execution_count": 25,
   "metadata": {},
   "outputs": [
    {
     "data": {
      "text/plain": [
       "HTTP.Messages.Response:\n",
       "\"\"\"\n",
       "HTTP/1.1 200 OK\r\n",
       "Connection: keep-alive\r\n",
       "Content-Length: 5458199\r\n",
       "Last-Modified: Thu, 23 Apr 2020 18:02:39 GMT\r\n",
       "ETag: \"d2028225a89d8b0b3093dddb720da91f\"\r\n",
       "x-amz-version-id: null\r\n",
       "Content-Type: text/plain\r\n",
       "Accept-Ranges: bytes\r\n",
       "Age: 91\r\n",
       "Date: Fri, 26 Nov 2021 21:46:03 GMT\r\n",
       "X-Served-By: cache-bwi5156-BWI, cache-dfw18654-DFW\r\n",
       "X-Cache: HIT, HIT\r\n",
       "X-Cache-Hits: 0, 0\r\n",
       "Vary: Accept-Encoding\r\n",
       "Strict-Transport-Security: max-age=31557600\r\n",
       "\r\n",
       "This is the 100th Etext file presented by Project Gutenberg, and\n",
       "is presented in cooperation with World Library, Inc., from their\n",
       "Library of the Future and Shakespeare CDROMS.  Project Gutenberg\n",
       "often releases Etexts that are NOT placed in the Public Domain!!\n",
       "\n",
       "Shakespeare\n",
       "\n",
       "*This Etext has certain copyright implications you should read!*\n",
       "\n",
       "<<THIS ELECTRONIC VERSION OF THE COMPLETE WORKS OF WILLIAM\n",
       "SHAKESPEARE IS COPYRIGHT 1990-1993 BY WORLD LIBRARY, INC., AND IS\n",
       "PROVIDED BY PROJECT GUTENBERG ETEXT OF ILLINOIS BENEDICTINE COLLEGE\n",
       "WITH PERMISSION.  ELECTRONIC AND MACHINE READABLE COPIES MAY BE\n",
       "DISTRIBUTED SO LONG AS SUCH COPIES (1) ARE FOR YOUR OR OTHERS\n",
       "PERSONAL USE ONLY, AND (2) ARE NOT DISTRIBUTED OR USED\n",
       "COMMERCIALLY.  PROHIBITED COMMERCIAL DISTRIBUTION INCLUDES BY ANY\n",
       "SERVICE THAT CHARGES FOR DOWNLOAD TIME OR FOR MEMBERSHIP.>>\n",
       "\n",
       "*Project Gutenberg is proud to cooperate with The World Library*\n",
       "in the presentation of The Complete Works of William Shakespeare\n",
       "for your reading for educatio\n",
       "⋮\n",
       "5458199-byte body\n",
       "\"\"\""
      ]
     },
     "execution_count": 25,
     "metadata": {},
     "output_type": "execute_result"
    }
   ],
   "source": [
    "url = \"https://ocw.mit.edu/ans7870/6/6.006/s08/lecturenotes/files/t8.shakespeare.txt\"\n",
    "data = HTTP.request(\"GET\", url)"
   ]
  },
  {
   "cell_type": "code",
   "execution_count": 26,
   "metadata": {},
   "outputs": [
    {
     "data": {
      "text/plain": [
       "901325-element Vector{SubString{String}}:\n",
       " \"This\"\n",
       " \"is\"\n",
       " \"the\"\n",
       " \"100th\"\n",
       " \"Etext\"\n",
       " \"file\"\n",
       " \"presented\"\n",
       " \"by\"\n",
       " \"Project\"\n",
       " \"Gutenberg,\"\n",
       " \"and\"\n",
       " \"is\"\n",
       " \"presented\"\n",
       " ⋮\n",
       " \"MEMBERSHIP.>>\"\n",
       " \"End\"\n",
       " \"of\"\n",
       " \"this\"\n",
       " \"Etext\"\n",
       " \"of\"\n",
       " \"The\"\n",
       " \"Complete\"\n",
       " \"Works\"\n",
       " \"of\"\n",
       " \"William\"\n",
       " \"Shakespeare\""
      ]
     },
     "execution_count": 26,
     "metadata": {},
     "output_type": "execute_result"
    }
   ],
   "source": [
    "shakespeare = String(data.body)\n",
    "shakespeareWords = split(shakespeare)"
   ]
  },
  {
   "cell_type": "code",
   "execution_count": 30,
   "metadata": {},
   "outputs": [
    {
     "data": {
      "text/plain": [
       "Dict{String, Any} with 2 entries:\n",
       "  \"numToShow\" => 5\n",
       "  \"words\"     => Any[\"heaven\", \"hell\", \"man\", \"woman\", \"boy\", \"girl\", \"king\", \"…"
      ]
     },
     "execution_count": 30,
     "metadata": {},
     "output_type": "execute_result"
    }
   ],
   "source": [
    "url = \"https://raw.githubusercontent.com/h-Klok/StatsWithJuliaBook/master/data/jsonCode.json\"\n",
    "jsonWords = HTTP.request(\"GET\", url)\n",
    "parsedJsonDict = JSON.parse(String(jsonWords.body))"
   ]
  },
  {
   "cell_type": "code",
   "execution_count": 31,
   "metadata": {},
   "outputs": [
    {
     "data": {
      "text/plain": [
       "16-element Vector{Any}:\n",
       " \"heaven\"\n",
       " \"hell\"\n",
       " \"man\"\n",
       " \"woman\"\n",
       " \"boy\"\n",
       " \"girl\"\n",
       " \"king\"\n",
       " \"queen\"\n",
       " \"prince\"\n",
       " \"sir\"\n",
       " \"love\"\n",
       " \"hate\"\n",
       " \"knife\"\n",
       " \"english\"\n",
       " \"england\"\n",
       " \"god\""
      ]
     },
     "execution_count": 31,
     "metadata": {},
     "output_type": "execute_result"
    }
   ],
   "source": [
    "parsedJsonDict[\"words\"]"
   ]
  },
  {
   "cell_type": "code",
   "execution_count": 39,
   "metadata": {},
   "outputs": [
    {
     "data": {
      "text/plain": [
       "5-element Vector{Pair{String, Int64}}:\n",
       " \"king\" => 1698\n",
       " \"love\" => 1279\n",
       "  \"man\" => 1033\n",
       "  \"sir\" => 721\n",
       "  \"god\" => 555"
      ]
     },
     "metadata": {},
     "output_type": "display_data"
    }
   ],
   "source": [
    "keywords = Array{String}(parsedJsonDict[\"words\"])\n",
    "numbertoShow = parsedJsonDict[\"numToShow\"]\n",
    "wordCount = Dict([(x, count(w -> lowercase(w) == lowercase(x), shakespeareWords)) for x in keywords])\n",
    "sortedWordCount = sort(collect(wordCount), by=last, rev=true)\n",
    "display(sortedWordCount[1:numbertoShow])"
   ]
  },
  {
   "cell_type": "code",
   "execution_count": null,
   "metadata": {},
   "outputs": [],
   "source": []
  }
 ],
 "metadata": {
  "kernelspec": {
   "display_name": "Julia 1.6.2",
   "language": "julia",
   "name": "julia-1.6"
  },
  "language_info": {
   "file_extension": ".jl",
   "mimetype": "application/julia",
   "name": "julia",
   "version": "1.6.2"
  }
 },
 "nbformat": 4,
 "nbformat_minor": 4
}
