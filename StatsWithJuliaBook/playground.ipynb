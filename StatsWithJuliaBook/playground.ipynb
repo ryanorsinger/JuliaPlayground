{
 "cells": [
  {
   "cell_type": "markdown",
   "metadata": {},
   "source": [
    "# Chapter 1 playground"
   ]
  },
  {
   "cell_type": "code",
   "execution_count": 2,
   "metadata": {},
   "outputs": [
    {
     "name": "stdout",
     "output_type": "stream",
     "text": [
      "98% of the means lie in the estimated range: (0.4699332202453785, 0.5300549883940808)\n",
      " 21.171818 seconds (1.51 G allocations: 30.341 GiB, 4.68% gc time)\n"
     ]
    }
   ],
   "source": [
    "using Statistics\n",
    "\n",
    "@time begin\n",
    "    data = Float64[]\n",
    "    for _ in 1:10^6\n",
    "        group = []\n",
    "        for _ in 1:5*10^2\n",
    "            push!(group, rand())\n",
    "        end\n",
    "        push!(data, mean(group))\n",
    "    end\n",
    "    println(\"98% of the means lie in the estimated range: \", \n",
    "        (quantile(data, 0.01), quantile(data, 0.99))\n",
    "    )\n",
    "end"
   ]
  },
  {
   "cell_type": "code",
   "execution_count": 3,
   "metadata": {},
   "outputs": [
    {
     "name": "stdout",
     "output_type": "stream",
     "text": [
      "98% of the means lie in the estimated range: (0.469973846509801, 0.5299652147164318)\n",
      "  1.673241 seconds (1.27 M allocations: 3.912 GiB, 40.05% gc time, 5.32% compilation time)\n"
     ]
    }
   ],
   "source": [
    "using Statistics\n",
    "\n",
    "@time begin\n",
    "    data = [mean(rand(5*10^2)) for _ in 1:10^6]\n",
    "        println(\"98% of the means lie in the estimated range: \", \n",
    "        (quantile(data, 0.01), quantile(data, 0.99))\n",
    "    )\n",
    "end"
   ]
  },
  {
   "cell_type": "markdown",
   "metadata": {},
   "source": [
    "## Takeaways\n",
    "- The `!` in `push!(collection, element)` means this function mutates the argument\n",
    "- List comprehensions are faster\n",
    "- Compare to python\n",
    "\n",
    "```python\n",
    "%%time   \n",
    "\n",
    "data = []\n",
    "for _ in range(1, 10**6):\n",
    "    group = []\n",
    "    for _ in range(1, 5*10**2):\n",
    "        group.append(random.random())\n",
    "    data.append(mean(group))\n",
    "               \n",
    "print(\"98% of the means lie in the estimated range: \", \n",
    "          (np.quantile(data, .01), np.quantile(data, .99)))\n",
    "```\n",
    "\n",
    "produces \n",
    "\n",
    "98% of the means lie in the estimated range:  (0.469880247744724, 0.5301088536142381)\n",
    "\n",
    "CPU times: user 51.6 s, sys: 35.2 ms, total: 51.6 s\n",
    "\n",
    "Wall time: 51.6 s"
   ]
  },
  {
   "cell_type": "markdown",
   "metadata": {},
   "source": [
    "## Multiple Dispatch is runtime method overloading\n",
    "- Julia engages in type inference whenever possible, but w/ multiple dispatch, we can control the behavior\n",
    "- Multiple dispatch also works w/ user defined types"
   ]
  },
  {
   "cell_type": "code",
   "execution_count": 11,
   "metadata": {},
   "outputs": [
    {
     "data": {
      "text/plain": [
       "foo (generic function with 1 method)"
      ]
     },
     "execution_count": 11,
     "metadata": {},
     "output_type": "execute_result"
    }
   ],
   "source": [
    "function foo(x)::Int64\n",
    "    return x + 1\n",
    "end"
   ]
  },
  {
   "cell_type": "code",
   "execution_count": 12,
   "metadata": {},
   "outputs": [
    {
     "data": {
      "text/plain": [
       "foo (generic function with 1 method)"
      ]
     },
     "execution_count": 12,
     "metadata": {},
     "output_type": "execute_result"
    }
   ],
   "source": [
    "function foo(x)::Float64\n",
    "    return x - 1\n",
    "end"
   ]
  },
  {
   "cell_type": "code",
   "execution_count": 13,
   "metadata": {},
   "outputs": [
    {
     "data": {
      "text/plain": [
       "1.0"
      ]
     },
     "execution_count": 13,
     "metadata": {},
     "output_type": "execute_result"
    }
   ],
   "source": [
    "foo(2)"
   ]
  },
  {
   "cell_type": "code",
   "execution_count": 14,
   "metadata": {},
   "outputs": [
    {
     "data": {
      "text/plain": [
       "1.2999999999999998"
      ]
     },
     "execution_count": 14,
     "metadata": {},
     "output_type": "execute_result"
    }
   ],
   "source": [
    "foo(2.3)"
   ]
  },
  {
   "cell_type": "code",
   "execution_count": 18,
   "metadata": {},
   "outputs": [
    {
     "name": "stdout",
     "output_type": "stream",
     "text": [
      "search: \u001b[0m\u001b[1ms\u001b[22m\u001b[0m\u001b[1mu\u001b[22m\u001b[0m\u001b[1mp\u001b[22m\u001b[0m\u001b[1me\u001b[22m\u001b[0m\u001b[1mr\u001b[22m\u001b[0m\u001b[1mt\u001b[22m\u001b[0m\u001b[1my\u001b[22m\u001b[0m\u001b[1mp\u001b[22m\u001b[0m\u001b[1me\u001b[22m\u001b[0m\u001b[1ms\u001b[22m \u001b[0m\u001b[1ms\u001b[22m\u001b[0m\u001b[1mu\u001b[22m\u001b[0m\u001b[1mp\u001b[22m\u001b[0m\u001b[1me\u001b[22m\u001b[0m\u001b[1mr\u001b[22m\u001b[0m\u001b[1mt\u001b[22m\u001b[0m\u001b[1my\u001b[22m\u001b[0m\u001b[1mp\u001b[22m\u001b[0m\u001b[1me\u001b[22m\n",
      "\n"
     ]
    },
    {
     "data": {
      "text/latex": [
       "\\begin{verbatim}\n",
       "supertypes(T::Type)\n",
       "\\end{verbatim}\n",
       "Return a tuple \\texttt{(T, ..., Any)} of \\texttt{T} and all its supertypes, as determined by successive calls to the \\href{@ref}{\\texttt{supertype}} function, listed in order of \\texttt{<:} and terminated by \\texttt{Any}.\n",
       "\n",
       "\\section{Examples}\n",
       "\\begin{verbatim}\n",
       "julia> supertypes(Int)\n",
       "(Int64, Signed, Integer, Real, Number, Any)\n",
       "\\end{verbatim}\n"
      ],
      "text/markdown": [
       "```\n",
       "supertypes(T::Type)\n",
       "```\n",
       "\n",
       "Return a tuple `(T, ..., Any)` of `T` and all its supertypes, as determined by successive calls to the [`supertype`](@ref) function, listed in order of `<:` and terminated by `Any`.\n",
       "\n",
       "# Examples\n",
       "\n",
       "```jldoctest\n",
       "julia> supertypes(Int)\n",
       "(Int64, Signed, Integer, Real, Number, Any)\n",
       "```\n"
      ],
      "text/plain": [
       "  \u001b[38;5;81msupertypes\u001b[0m(\u001b[0m\u001b[39mT\u001b[0m\u001b[38;5;81m::\u001b[0m\u001b[38;5;81mType\u001b[0m\u001b[39m)\u001b[0m\u001b[39m\u001b[0m\n",
       "\n",
       "\n",
       "  Return a tuple \u001b[36m(T, ..., Any)\u001b[39m of \u001b[36mT\u001b[39m and all its supertypes, as determined by\n",
       "  successive calls to the \u001b[36msupertype\u001b[39m function, listed in order of \u001b[36m<:\u001b[39m and\n",
       "  terminated by \u001b[36mAny\u001b[39m.\n",
       "\n",
       "\u001b[1m  Examples\u001b[22m\n",
       "\u001b[1m  ≡≡≡≡≡≡≡≡≡≡\u001b[22m\n",
       "\n",
       "  \u001b[31;1mjulia> \u001b[0m\u001b[38;5;81msupertypes\u001b[0m(\u001b[0m\u001b[39mInt\u001b[0m\u001b[39m)\u001b[0m\n",
       "  \u001b[0m\u001b[39m\u001b[0m(Int64, Signed, Integer, Real, Number, Any)\n"
      ]
     },
     "execution_count": 18,
     "metadata": {},
     "output_type": "execute_result"
    }
   ],
   "source": [
    "?supertypes"
   ]
  },
  {
   "cell_type": "code",
   "execution_count": 19,
   "metadata": {},
   "outputs": [
    {
     "name": "stdout",
     "output_type": "stream",
     "text": [
      "search: \u001b[0m\u001b[1ms\u001b[22m\u001b[0m\u001b[1mu\u001b[22m\u001b[0m\u001b[1mb\u001b[22m\u001b[0m\u001b[1mt\u001b[22m\u001b[0m\u001b[1my\u001b[22m\u001b[0m\u001b[1mp\u001b[22m\u001b[0m\u001b[1me\u001b[22m\u001b[0m\u001b[1ms\u001b[22m\n",
      "\n"
     ]
    },
    {
     "data": {
      "text/latex": [
       "\\begin{verbatim}\n",
       "subtypes(T::DataType)\n",
       "\\end{verbatim}\n",
       "Return a list of immediate subtypes of DataType \\texttt{T}. Note that all currently loaded subtypes are included, including those not visible in the current module.\n",
       "\n",
       "\\section{Examples}\n",
       "\\begin{verbatim}\n",
       "julia> subtypes(Integer)\n",
       "3-element Vector{Any}:\n",
       " Bool\n",
       " Signed\n",
       " Unsigned\n",
       "\\end{verbatim}\n"
      ],
      "text/markdown": [
       "```\n",
       "subtypes(T::DataType)\n",
       "```\n",
       "\n",
       "Return a list of immediate subtypes of DataType `T`. Note that all currently loaded subtypes are included, including those not visible in the current module.\n",
       "\n",
       "# Examples\n",
       "\n",
       "```jldoctest\n",
       "julia> subtypes(Integer)\n",
       "3-element Vector{Any}:\n",
       " Bool\n",
       " Signed\n",
       " Unsigned\n",
       "```\n"
      ],
      "text/plain": [
       "  \u001b[38;5;81msubtypes\u001b[0m(\u001b[0m\u001b[39mT\u001b[0m\u001b[38;5;81m::\u001b[0m\u001b[38;5;81mDataType\u001b[0m\u001b[39m)\u001b[0m\u001b[39m\u001b[0m\n",
       "\n",
       "\n",
       "  Return a list of immediate subtypes of DataType \u001b[36mT\u001b[39m. Note that all currently\n",
       "  loaded subtypes are included, including those not visible in the current\n",
       "  module.\n",
       "\n",
       "\u001b[1m  Examples\u001b[22m\n",
       "\u001b[1m  ≡≡≡≡≡≡≡≡≡≡\u001b[22m\n",
       "\n",
       "  \u001b[31;1mjulia> \u001b[0m\u001b[38;5;81msubtypes\u001b[0m(\u001b[0m\u001b[39mInteger\u001b[0m\u001b[39m)\u001b[0m\n",
       "  \u001b[0m\u001b[39m\u001b[0m3-element Vector{Any}:\n",
       "   Bool\n",
       "   Signed\n",
       "   Unsigned\n"
      ]
     },
     "execution_count": 19,
     "metadata": {},
     "output_type": "execute_result"
    }
   ],
   "source": [
    "?subtypes"
   ]
  },
  {
   "cell_type": "code",
   "execution_count": 20,
   "metadata": {},
   "outputs": [
    {
     "data": {
      "text/plain": [
       "3-element Vector{Any}:\n",
       " Bool\n",
       " Signed\n",
       " Unsigned"
      ]
     },
     "execution_count": 20,
     "metadata": {},
     "output_type": "execute_result"
    }
   ],
   "source": [
    "subtypes(Integer)"
   ]
  },
  {
   "cell_type": "code",
   "execution_count": 21,
   "metadata": {},
   "outputs": [
    {
     "data": {
      "text/plain": [
       "(Integer, Real, Number, Any)"
      ]
     },
     "execution_count": 21,
     "metadata": {},
     "output_type": "execute_result"
    }
   ],
   "source": [
    "supertypes(Integer)"
   ]
  },
  {
   "cell_type": "code",
   "execution_count": 22,
   "metadata": {},
   "outputs": [
    {
     "data": {
      "text/plain": [
       "2-element Vector{Any}:\n",
       " Complex\n",
       " Real"
      ]
     },
     "execution_count": 22,
     "metadata": {},
     "output_type": "execute_result"
    }
   ],
   "source": [
    "subtypes(Number)"
   ]
  },
  {
   "cell_type": "code",
   "execution_count": 23,
   "metadata": {},
   "outputs": [
    {
     "data": {
      "text/plain": [
       "(Number, Any)"
      ]
     },
     "execution_count": 23,
     "metadata": {},
     "output_type": "execute_result"
    }
   ],
   "source": [
    "supertypes(Number)"
   ]
  },
  {
   "cell_type": "code",
   "execution_count": 24,
   "metadata": {},
   "outputs": [
    {
     "data": {
      "text/plain": [
       "(Any,)"
      ]
     },
     "execution_count": 24,
     "metadata": {},
     "output_type": "execute_result"
    }
   ],
   "source": [
    "supertypes(Any)"
   ]
  },
  {
   "cell_type": "code",
   "execution_count": 25,
   "metadata": {},
   "outputs": [
    {
     "data": {
      "text/plain": [
       "560-element Vector{Any}:\n",
       " AbstractArray\n",
       " AbstractChannel\n",
       " AbstractChar\n",
       " AbstractDict\n",
       " AbstractDisplay\n",
       " AbstractMatch\n",
       " AbstractPattern\n",
       " AbstractSet\n",
       " AbstractString\n",
       " Any\n",
       " Base.AbstractBroadcasted\n",
       " Base.AbstractCartesianIndex\n",
       " Base.AbstractCmd\n",
       " ⋮\n",
       " Tuple\n",
       " Type\n",
       " TypeVar\n",
       " UndefInitializer\n",
       " Val\n",
       " Vararg\n",
       " VecElement\n",
       " VersionNumber\n",
       " WeakRef\n",
       " ZMQ.Context\n",
       " ZMQ.Socket\n",
       " ZMQ._Message"
      ]
     },
     "execution_count": 25,
     "metadata": {},
     "output_type": "execute_result"
    }
   ],
   "source": [
    "subtypes(Any)"
   ]
  },
  {
   "cell_type": "code",
   "execution_count": null,
   "metadata": {},
   "outputs": [],
   "source": []
  }
 ],
 "metadata": {
  "kernelspec": {
   "display_name": "Julia 1.6.2",
   "language": "julia",
   "name": "julia-1.6"
  },
  "language_info": {
   "file_extension": ".jl",
   "mimetype": "application/julia",
   "name": "julia",
   "version": "1.6.2"
  }
 },
 "nbformat": 4,
 "nbformat_minor": 4
}
